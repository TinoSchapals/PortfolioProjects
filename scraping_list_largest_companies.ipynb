{
 "cells": [
  {
   "cell_type": "code",
   "execution_count": 1,
   "id": "4c8ff7f0",
   "metadata": {},
   "outputs": [],
   "source": [
    "#import libraries and packages\n",
    "from bs4 import BeautifulSoup\n",
    "import requests"
   ]
  },
  {
   "cell_type": "code",
   "execution_count": 2,
   "id": "b1083624",
   "metadata": {},
   "outputs": [],
   "source": [
    "#import the data\n",
    "url = 'https://en.wikipedia.org/wiki/List_of_largest_companies_in_the_United_States_by_revenue'\n",
    "\n",
    "page = requests.get(url)\n",
    "\n",
    "soup = BeautifulSoup(page.text, \"html\")"
   ]
  },
  {
   "cell_type": "code",
   "execution_count": 8,
   "id": "5acdeaeb",
   "metadata": {},
   "outputs": [],
   "source": [
    "#find the table \n",
    "table = soup.find_all(\"table\", class_ =\"wikitable sortable\")[0]"
   ]
  },
  {
   "cell_type": "code",
   "execution_count": 18,
   "id": "dbf13fb1",
   "metadata": {},
   "outputs": [],
   "source": [
    "#first step: get the header of the table\n",
    "title = table.find_all(\"th\")"
   ]
  },
  {
   "cell_type": "code",
   "execution_count": 20,
   "id": "e68dd11e",
   "metadata": {},
   "outputs": [],
   "source": [
    "#list comprehension to get the text with cleaning \n",
    "table_titles = [title.text.strip() for title in titles]"
   ]
  },
  {
   "cell_type": "code",
   "execution_count": 21,
   "id": "9c4d1e81",
   "metadata": {},
   "outputs": [],
   "source": [
    "#import the headers into pandas\n",
    "import pandas as pd"
   ]
  },
  {
   "cell_type": "code",
   "execution_count": 23,
   "id": "f1ec95fa",
   "metadata": {},
   "outputs": [],
   "source": [
    "#create the dataframe\n",
    "df = pd.DataFrame(columns = table_titles)"
   ]
  },
  {
   "cell_type": "code",
   "execution_count": 29,
   "id": "bf90ff01",
   "metadata": {},
   "outputs": [],
   "source": [
    "#get the data and clean it\n",
    "column_data = table.find_all(\"tr\")\n",
    "\n",
    "for row in column_data[1:]:\n",
    "    row_data = row.find_all(\"td\")\n",
    "    individual_row_data = [data.text.strip() for data in row_data]\n",
    "#put the data into pandas\n",
    "    length = len(df)\n",
    "    df.loc[length] = individual_row_data"
   ]
  },
  {
   "cell_type": "code",
   "execution_count": 30,
   "id": "5509573a",
   "metadata": {},
   "outputs": [],
   "source": [
    "#export it into a csv\n",
    "df.to_csv(r\"C:\\Users\\Tino\\Dropbox\\Mein PC (DESKTOP-1UB4ROK)\\Documents\\python\\Web Scraping\\list_of_the_largest_companies.csv\", index = False)"
   ]
  },
  {
   "cell_type": "code",
   "execution_count": null,
   "id": "d38e5e32",
   "metadata": {},
   "outputs": [],
   "source": []
  }
 ],
 "metadata": {
  "kernelspec": {
   "display_name": "Python 3 (ipykernel)",
   "language": "python",
   "name": "python3"
  },
  "language_info": {
   "codemirror_mode": {
    "name": "ipython",
    "version": 3
   },
   "file_extension": ".py",
   "mimetype": "text/x-python",
   "name": "python",
   "nbconvert_exporter": "python",
   "pygments_lexer": "ipython3",
   "version": "3.11.5"
  }
 },
 "nbformat": 4,
 "nbformat_minor": 5
}
